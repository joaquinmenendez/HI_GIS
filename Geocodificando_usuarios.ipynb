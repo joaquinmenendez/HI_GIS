{
 "cells": [
  {
   "cell_type": "markdown",
   "metadata": {},
   "source": [
    "# Pipeline para la geocodificacion de usuarios\n",
    "\n",
    "La actual pipeline esta pensada para aproximar la geolocalizacion de los usuarios del plan de salud el HI en base a 3 varaibles proveidas: <br>\n",
    "`provincia_part`, `cp_part`, `loc_part`.<br>\n",
    "Un analisis exploratorio"
   ]
  }
 ],
 "metadata": {
  "kernelspec": {
   "display_name": "Python 3",
   "language": "python",
   "name": "python3"
  },
  "language_info": {
   "codemirror_mode": {
    "name": "ipython",
    "version": 3
   },
   "file_extension": ".py",
   "mimetype": "text/x-python",
   "name": "python",
   "nbconvert_exporter": "python",
   "pygments_lexer": "ipython3",
   "version": "3.7.4"
  }
 },
 "nbformat": 4,
 "nbformat_minor": 4
}
